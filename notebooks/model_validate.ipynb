{
 "cells": [
  {
   "cell_type": "code",
   "execution_count": 22,
   "metadata": {},
   "outputs": [],
   "source": [
    "import sys\n",
    "import os\n",
    "import pandas as pd\n",
    "import numpy as np\n",
    "from statsmodels.tsa.statespace.sarimax import SARIMAX\n",
    "from sklearn.metrics import mean_absolute_error, mean_squared_error\n",
    "\n",
    "# Add the webapp directory to the system path\n",
    "sys.path.append(os.path.abspath(os.path.join(os.getcwd(), '..', 'webapp')))\n",
    "\n",
    "from app import load_historical_data\n"
   ]
  },
  {
   "cell_type": "code",
   "execution_count": 23,
   "metadata": {},
   "outputs": [],
   "source": [
    "# Load historical data\n",
    "historical_data = load_historical_data()\n",
    "\n",
    "# Ensure the historical data index has a frequency\n",
    "historical_data.index.freq = pd.infer_freq(historical_data.index)\n",
    "historical_data.head()\n",
    "# Split the historical data into training and validation sets\n",
    "train_size = int(len(historical_data) * 0.8)\n",
    "train_data = historical_data[:train_size]\n",
    "validation_data = historical_data[train_size:]"
   ]
  },
  {
   "cell_type": "code",
   "execution_count": 24,
   "metadata": {},
   "outputs": [
    {
     "name": "stderr",
     "output_type": "stream",
     "text": [
      "/home/gengar/data/aiml/co2_prediction/venv/lib/python3.11/site-packages/statsmodels/tsa/base/tsa_model.py:473: ValueWarning: A date index has been provided, but it has no associated frequency information and so will be ignored when e.g. forecasting.\n",
      "  self._init_dates(dates, freq)\n",
      "/home/gengar/data/aiml/co2_prediction/venv/lib/python3.11/site-packages/statsmodels/tsa/base/tsa_model.py:473: ValueWarning: A date index has been provided, but it has no associated frequency information and so will be ignored when e.g. forecasting.\n",
      "  self._init_dates(dates, freq)\n",
      "/home/gengar/data/aiml/co2_prediction/venv/lib/python3.11/site-packages/statsmodels/tsa/base/tsa_model.py:836: ValueWarning: No supported index is available. Prediction results will be given with an integer index beginning at `start`.\n",
      "  return get_prediction_index(\n",
      "/home/gengar/data/aiml/co2_prediction/venv/lib/python3.11/site-packages/statsmodels/tsa/base/tsa_model.py:836: FutureWarning: No supported index is available. In the next version, calling this method in a model without a supported index will result in an exception.\n",
      "  return get_prediction_index(\n"
     ]
    }
   ],
   "source": [
    "# Train SARIMA model\n",
    "sarima_model = SARIMAX(train_data, order=(1, 1, 1), seasonal_order=(1, 1, 1, 12))\n",
    "sarima_fit = sarima_model.fit(disp=False)\n",
    "sarima_forecast = sarima_fit.get_forecast(steps=len(validation_data))\n",
    "sarima_predictions = sarima_forecast.predicted_mean"
   ]
  },
  {
   "cell_type": "code",
   "execution_count": 25,
   "metadata": {},
   "outputs": [],
   "source": [
    "# Calculate performance metrics\n",
    "sarima_mae = mean_absolute_error(validation_data, sarima_predictions)\n",
    "sarima_mse = mean_squared_error(validation_data, sarima_predictions)\n",
    "sarima_rmse = np.sqrt(sarima_mse)"
   ]
  },
  {
   "cell_type": "code",
   "execution_count": 26,
   "metadata": {},
   "outputs": [
    {
     "name": "stdout",
     "output_type": "stream",
     "text": [
      "SARIMA MAE: 6.468256138225671\n",
      "SARIMA MSE: 100.21444534102575\n",
      "SARIMA RMSE: 10.010716524856038\n",
      "SARIMA model validation complete.\n"
     ]
    }
   ],
   "source": [
    "print(f\"SARIMA MAE: {sarima_mae}\")\n",
    "print(f\"SARIMA MSE: {sarima_mse}\")\n",
    "print(f\"SARIMA RMSE: {sarima_rmse}\")\n",
    "\n",
    "# Determine the best model\n",
    "print(\"SARIMA model validation complete.\")"
   ]
  }
 ],
 "metadata": {
  "kernelspec": {
   "display_name": "venv",
   "language": "python",
   "name": "python3"
  },
  "language_info": {
   "codemirror_mode": {
    "name": "ipython",
    "version": 3
   },
   "file_extension": ".py",
   "mimetype": "text/x-python",
   "name": "python",
   "nbconvert_exporter": "python",
   "pygments_lexer": "ipython3",
   "version": "3.11.9"
  }
 },
 "nbformat": 4,
 "nbformat_minor": 2
}
